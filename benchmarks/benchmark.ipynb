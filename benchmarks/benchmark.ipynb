{
 "cells": [
  {
   "cell_type": "code",
   "execution_count": 1,
   "metadata": {},
   "outputs": [],
   "source": [
    "BENCHMARK_FILE = 'benchmark.csv'"
   ]
  },
  {
   "cell_type": "code",
   "execution_count": 2,
   "metadata": {},
   "outputs": [],
   "source": [
    "import pandas as pd\n",
    "import matplotlib.pyplot as plt\n",
    "import seaborn as sns\n",
    "%matplotlib inline\n",
    "\n",
    "sns.set();"
   ]
  },
  {
   "cell_type": "code",
   "execution_count": 3,
   "metadata": {},
   "outputs": [],
   "source": [
    "names = ['file', 'extractor', 'references', 'time_ms']\n",
    "types = ['str', 'str', 'int', 'int']\n",
    "benchmark_data = pd.read_csv(BENCHMARK_FILE, \n",
    "                             names=names,\n",
    "                             dtype=dict(zip(names, types)))\n",
    "benchmark_data['parsed_smth'] = benchmark_data['references'] > 0"
   ]
  },
  {
   "cell_type": "code",
   "execution_count": 4,
   "metadata": {},
   "outputs": [
    {
     "data": {
      "text/html": [
       "<div>\n",
       "<style scoped>\n",
       "    .dataframe tbody tr th:only-of-type {\n",
       "        vertical-align: middle;\n",
       "    }\n",
       "\n",
       "    .dataframe tbody tr th {\n",
       "        vertical-align: top;\n",
       "    }\n",
       "\n",
       "    .dataframe thead th {\n",
       "        text-align: right;\n",
       "    }\n",
       "</style>\n",
       "<table border=\"1\" class=\"dataframe\">\n",
       "  <thead>\n",
       "    <tr style=\"text-align: right;\">\n",
       "      <th></th>\n",
       "      <th>file</th>\n",
       "      <th>extractor</th>\n",
       "      <th>references</th>\n",
       "      <th>time_ms</th>\n",
       "      <th>parsed_smth</th>\n",
       "    </tr>\n",
       "  </thead>\n",
       "  <tbody>\n",
       "    <tr>\n",
       "      <th>0</th>\n",
       "      <td>1707.08836v2</td>\n",
       "      <td>Cermine</td>\n",
       "      <td>35</td>\n",
       "      <td>30477</td>\n",
       "      <td>True</td>\n",
       "    </tr>\n",
       "    <tr>\n",
       "      <th>1</th>\n",
       "      <td>1707.08836v2</td>\n",
       "      <td>Custom</td>\n",
       "      <td>35</td>\n",
       "      <td>3531</td>\n",
       "      <td>True</td>\n",
       "    </tr>\n",
       "    <tr>\n",
       "      <th>2</th>\n",
       "      <td>1707.08836v2</td>\n",
       "      <td>Grobid</td>\n",
       "      <td>35</td>\n",
       "      <td>6004</td>\n",
       "      <td>True</td>\n",
       "    </tr>\n",
       "    <tr>\n",
       "      <th>3</th>\n",
       "      <td>1809.02905v4</td>\n",
       "      <td>Cermine</td>\n",
       "      <td>1</td>\n",
       "      <td>25721</td>\n",
       "      <td>True</td>\n",
       "    </tr>\n",
       "    <tr>\n",
       "      <th>4</th>\n",
       "      <td>1809.02905v4</td>\n",
       "      <td>Custom</td>\n",
       "      <td>38</td>\n",
       "      <td>11376</td>\n",
       "      <td>True</td>\n",
       "    </tr>\n",
       "  </tbody>\n",
       "</table>\n",
       "</div>"
      ],
      "text/plain": [
       "           file extractor  references  time_ms  parsed_smth\n",
       "0  1707.08836v2   Cermine          35    30477         True\n",
       "1  1707.08836v2    Custom          35     3531         True\n",
       "2  1707.08836v2    Grobid          35     6004         True\n",
       "3  1809.02905v4   Cermine           1    25721         True\n",
       "4  1809.02905v4    Custom          38    11376         True"
      ]
     },
     "execution_count": 4,
     "metadata": {},
     "output_type": "execute_result"
    }
   ],
   "source": [
    "benchmark_data.head()"
   ]
  },
  {
   "cell_type": "code",
   "execution_count": 5,
   "metadata": {},
   "outputs": [
    {
     "data": {
      "text/html": [
       "<div>\n",
       "<style scoped>\n",
       "    .dataframe tbody tr th:only-of-type {\n",
       "        vertical-align: middle;\n",
       "    }\n",
       "\n",
       "    .dataframe tbody tr th {\n",
       "        vertical-align: top;\n",
       "    }\n",
       "\n",
       "    .dataframe thead th {\n",
       "        text-align: right;\n",
       "    }\n",
       "</style>\n",
       "<table border=\"1\" class=\"dataframe\">\n",
       "  <thead>\n",
       "    <tr style=\"text-align: right;\">\n",
       "      <th></th>\n",
       "      <th>average_references</th>\n",
       "      <th>average_time_ms</th>\n",
       "      <th>parsed_files</th>\n",
       "      <th>total_files</th>\n",
       "    </tr>\n",
       "    <tr>\n",
       "      <th>extractor</th>\n",
       "      <th></th>\n",
       "      <th></th>\n",
       "      <th></th>\n",
       "      <th></th>\n",
       "    </tr>\n",
       "  </thead>\n",
       "  <tbody>\n",
       "    <tr>\n",
       "      <th>Cermine</th>\n",
       "      <td>28.52</td>\n",
       "      <td>16981.78</td>\n",
       "      <td>98.0</td>\n",
       "      <td>100</td>\n",
       "    </tr>\n",
       "    <tr>\n",
       "      <th>Custom</th>\n",
       "      <td>35.88</td>\n",
       "      <td>6997.65</td>\n",
       "      <td>99.0</td>\n",
       "      <td>100</td>\n",
       "    </tr>\n",
       "    <tr>\n",
       "      <th>Grobid</th>\n",
       "      <td>35.43</td>\n",
       "      <td>7958.45</td>\n",
       "      <td>97.0</td>\n",
       "      <td>100</td>\n",
       "    </tr>\n",
       "  </tbody>\n",
       "</table>\n",
       "</div>"
      ],
      "text/plain": [
       "           average_references  average_time_ms  parsed_files  total_files\n",
       "extractor                                                                \n",
       "Cermine                 28.52         16981.78          98.0          100\n",
       "Custom                  35.88          6997.65          99.0          100\n",
       "Grobid                  35.43          7958.45          97.0          100"
      ]
     },
     "execution_count": 5,
     "metadata": {},
     "output_type": "execute_result"
    }
   ],
   "source": [
    "benchmark_data.groupby('extractor').agg(\n",
    "    average_references=pd.NamedAgg(column='references', aggfunc='mean'),\n",
    "    average_time_ms=pd.NamedAgg(column='time_ms', aggfunc='mean'),\n",
    "    parsed_files=pd.NamedAgg(column='parsed_smth', aggfunc='sum'),\n",
    "    total_files=pd.NamedAgg(column='parsed_smth', aggfunc='count')\n",
    ")"
   ]
  },
  {
   "cell_type": "code",
   "execution_count": 6,
   "metadata": {},
   "outputs": [
    {
     "data": {
      "image/png": "[encoded data removed]",
      "text/plain": [
       "<Figure size 864x432 with 1 Axes>"
      ]
     },
     "metadata": {},
     "output_type": "display_data"
    }
   ],
   "source": [
    "plt.figure(figsize=(12, 6))\n",
    "for key, grp in benchmark_data.groupby(['extractor']):\n",
    "    plt.scatter(grp['time_ms'], grp['references'], label=key)\n",
    "plt.legend()\n",
    "plt.show()"
   ]
  },
  {
   "cell_type": "code",
   "execution_count": null,
   "metadata": {},
   "outputs": [],
   "source": []
  }
 ],
 "metadata": {
  "kernelspec": {
   "display_name": "Python 3",
   "language": "python",
   "name": "python3"
  },
  "language_info": {
   "codemirror_mode": {
    "name": "ipython",
    "version": 3
   },
   "file_extension": ".py",
   "mimetype": "text/x-python",
   "name": "python",
   "nbconvert_exporter": "python",
   "pygments_lexer": "ipython3",
   "version": "3.7.6"
  }
 },
 "nbformat": 4,
 "nbformat_minor": 4
}
