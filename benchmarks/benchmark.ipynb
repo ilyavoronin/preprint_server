{
 "cells": [
  {
   "cell_type": "code",
   "execution_count": 41,
   "metadata": {},
   "outputs": [],
   "source": [
    "BENCHMARK_FILE = 'data/benchmark.csv'\n",
    "PAIRWISE_FILE = 'data/pairwise.csv'"
   ]
  },
  {
   "cell_type": "code",
   "execution_count": 42,
   "metadata": {},
   "outputs": [],
   "source": [
    "import pandas as pd\n",
    "import matplotlib.pyplot as plt\n",
    "import seaborn as sns\n",
    "%matplotlib inline\n",
    "\n",
    "sns.set();"
   ]
  },
  {
   "cell_type": "code",
   "execution_count": 43,
   "metadata": {},
   "outputs": [],
   "source": [
    "names = ['file', 'extractor', 'references', 'validated', 'time_ms']\n",
    "types = ['str', 'str', 'int', 'int', 'int']\n",
    "benchmark_data = pd.read_csv(BENCHMARK_FILE, \n",
    "                             names=names,\n",
    "                             dtype=dict(zip(names, types)))\n",
    "benchmark_data['parsed_smth'] = benchmark_data['references'] > 0"
   ]
  },
  {
   "cell_type": "code",
   "execution_count": 44,
   "metadata": {},
   "outputs": [
    {
     "data": {
      "text/html": [
       "<div>\n",
       "<style scoped>\n",
       "    .dataframe tbody tr th:only-of-type {\n",
       "        vertical-align: middle;\n",
       "    }\n",
       "\n",
       "    .dataframe tbody tr th {\n",
       "        vertical-align: top;\n",
       "    }\n",
       "\n",
       "    .dataframe thead th {\n",
       "        text-align: right;\n",
       "    }\n",
       "</style>\n",
       "<table border=\"1\" class=\"dataframe\">\n",
       "  <thead>\n",
       "    <tr style=\"text-align: right;\">\n",
       "      <th></th>\n",
       "      <th>file</th>\n",
       "      <th>extractor</th>\n",
       "      <th>references</th>\n",
       "      <th>validated</th>\n",
       "      <th>time_ms</th>\n",
       "      <th>parsed_smth</th>\n",
       "    </tr>\n",
       "  </thead>\n",
       "  <tbody>\n",
       "    <tr>\n",
       "      <th>0</th>\n",
       "      <td>0805.0417</td>\n",
       "      <td>Custom</td>\n",
       "      <td>40</td>\n",
       "      <td>15</td>\n",
       "      <td>752</td>\n",
       "      <td>True</td>\n",
       "    </tr>\n",
       "    <tr>\n",
       "      <th>1</th>\n",
       "      <td>0805.0417</td>\n",
       "      <td>Grobid</td>\n",
       "      <td>40</td>\n",
       "      <td>15</td>\n",
       "      <td>543</td>\n",
       "      <td>True</td>\n",
       "    </tr>\n",
       "    <tr>\n",
       "      <th>2</th>\n",
       "      <td>math0509679</td>\n",
       "      <td>Custom</td>\n",
       "      <td>16</td>\n",
       "      <td>9</td>\n",
       "      <td>283</td>\n",
       "      <td>True</td>\n",
       "    </tr>\n",
       "    <tr>\n",
       "      <th>3</th>\n",
       "      <td>math0509679</td>\n",
       "      <td>Grobid</td>\n",
       "      <td>15</td>\n",
       "      <td>8</td>\n",
       "      <td>560</td>\n",
       "      <td>True</td>\n",
       "    </tr>\n",
       "    <tr>\n",
       "      <th>4</th>\n",
       "      <td>math0210215</td>\n",
       "      <td>Custom</td>\n",
       "      <td>7</td>\n",
       "      <td>2</td>\n",
       "      <td>70</td>\n",
       "      <td>True</td>\n",
       "    </tr>\n",
       "    <tr>\n",
       "      <th>...</th>\n",
       "      <td>...</td>\n",
       "      <td>...</td>\n",
       "      <td>...</td>\n",
       "      <td>...</td>\n",
       "      <td>...</td>\n",
       "      <td>...</td>\n",
       "    </tr>\n",
       "    <tr>\n",
       "      <th>95</th>\n",
       "      <td>math0509560</td>\n",
       "      <td>Grobid</td>\n",
       "      <td>33</td>\n",
       "      <td>20</td>\n",
       "      <td>1003</td>\n",
       "      <td>True</td>\n",
       "    </tr>\n",
       "    <tr>\n",
       "      <th>96</th>\n",
       "      <td>nucl-th0509046</td>\n",
       "      <td>Custom</td>\n",
       "      <td>26</td>\n",
       "      <td>15</td>\n",
       "      <td>433</td>\n",
       "      <td>True</td>\n",
       "    </tr>\n",
       "    <tr>\n",
       "      <th>97</th>\n",
       "      <td>nucl-th0509046</td>\n",
       "      <td>Grobid</td>\n",
       "      <td>26</td>\n",
       "      <td>15</td>\n",
       "      <td>476</td>\n",
       "      <td>True</td>\n",
       "    </tr>\n",
       "    <tr>\n",
       "      <th>98</th>\n",
       "      <td>quant-ph0509140</td>\n",
       "      <td>Custom</td>\n",
       "      <td>19</td>\n",
       "      <td>15</td>\n",
       "      <td>945</td>\n",
       "      <td>True</td>\n",
       "    </tr>\n",
       "    <tr>\n",
       "      <th>99</th>\n",
       "      <td>quant-ph0509140</td>\n",
       "      <td>Grobid</td>\n",
       "      <td>19</td>\n",
       "      <td>15</td>\n",
       "      <td>998</td>\n",
       "      <td>True</td>\n",
       "    </tr>\n",
       "  </tbody>\n",
       "</table>\n",
       "<p>100 rows × 6 columns</p>\n",
       "</div>"
      ],
      "text/plain": [
       "               file extractor  references  validated  time_ms  parsed_smth\n",
       "0         0805.0417    Custom          40         15      752         True\n",
       "1         0805.0417    Grobid          40         15      543         True\n",
       "2       math0509679    Custom          16          9      283         True\n",
       "3       math0509679    Grobid          15          8      560         True\n",
       "4       math0210215    Custom           7          2       70         True\n",
       "..              ...       ...         ...        ...      ...          ...\n",
       "95      math0509560    Grobid          33         20     1003         True\n",
       "96   nucl-th0509046    Custom          26         15      433         True\n",
       "97   nucl-th0509046    Grobid          26         15      476         True\n",
       "98  quant-ph0509140    Custom          19         15      945         True\n",
       "99  quant-ph0509140    Grobid          19         15      998         True\n",
       "\n",
       "[100 rows x 6 columns]"
      ]
     },
     "execution_count": 44,
     "metadata": {},
     "output_type": "execute_result"
    }
   ],
   "source": [
    "benchmark_data[:100]"
   ]
  },
  {
   "cell_type": "code",
   "execution_count": 45,
   "metadata": {},
   "outputs": [
    {
     "data": {
      "text/html": [
       "<div>\n",
       "<style scoped>\n",
       "    .dataframe tbody tr th:only-of-type {\n",
       "        vertical-align: middle;\n",
       "    }\n",
       "\n",
       "    .dataframe tbody tr th {\n",
       "        vertical-align: top;\n",
       "    }\n",
       "\n",
       "    .dataframe thead th {\n",
       "        text-align: right;\n",
       "    }\n",
       "</style>\n",
       "<table border=\"1\" class=\"dataframe\">\n",
       "  <thead>\n",
       "    <tr style=\"text-align: right;\">\n",
       "      <th></th>\n",
       "      <th>average_references</th>\n",
       "      <th>average_validated</th>\n",
       "      <th>average_time_ms</th>\n",
       "      <th>parsed_files</th>\n",
       "      <th>total_files</th>\n",
       "    </tr>\n",
       "    <tr>\n",
       "      <th>extractor</th>\n",
       "      <th></th>\n",
       "      <th></th>\n",
       "      <th></th>\n",
       "      <th></th>\n",
       "      <th></th>\n",
       "    </tr>\n",
       "  </thead>\n",
       "  <tbody>\n",
       "    <tr>\n",
       "      <th>Custom</th>\n",
       "      <td>27.992293</td>\n",
       "      <td>15.697977</td>\n",
       "      <td>456.971259</td>\n",
       "      <td>6082.0</td>\n",
       "      <td>6228</td>\n",
       "    </tr>\n",
       "    <tr>\n",
       "      <th>Grobid</th>\n",
       "      <td>28.238279</td>\n",
       "      <td>15.707290</td>\n",
       "      <td>639.610951</td>\n",
       "      <td>6077.0</td>\n",
       "      <td>6228</td>\n",
       "    </tr>\n",
       "  </tbody>\n",
       "</table>\n",
       "</div>"
      ],
      "text/plain": [
       "           average_references  average_validated  average_time_ms  \\\n",
       "extractor                                                           \n",
       "Custom              27.992293          15.697977       456.971259   \n",
       "Grobid              28.238279          15.707290       639.610951   \n",
       "\n",
       "           parsed_files  total_files  \n",
       "extractor                             \n",
       "Custom           6082.0         6228  \n",
       "Grobid           6077.0         6228  "
      ]
     },
     "execution_count": 45,
     "metadata": {},
     "output_type": "execute_result"
    }
   ],
   "source": [
    "benchmark_data.groupby('extractor').agg(\n",
    "    average_references=pd.NamedAgg(column='references', aggfunc='mean'),\n",
    "    average_validated=pd.NamedAgg(column='validated', aggfunc='mean'),\n",
    "    average_time_ms=pd.NamedAgg(column='time_ms', aggfunc='mean'),\n",
    "    parsed_files=pd.NamedAgg(column='parsed_smth', aggfunc='sum'),\n",
    "    total_files=pd.NamedAgg(column='parsed_smth', aggfunc='count')\n",
    ")"
   ]
  },
  {
   "cell_type": "code",
   "execution_count": 47,
   "metadata": {},
   "outputs": [
    {
     "name": "stdout",
     "output_type": "stream",
     "text": [
      "Custom parsed 244\n",
      " references that didn't parse Grobid\n",
      "Grobid parsed 82 references that didn't parse Custom\n"
     ]
    }
   ],
   "source": [
    "file = open(PAIRWISE_FILE, 'r')\n",
    "names = file.readline().split(\",\")\n",
    "lines = file.readlines()\n",
    "for line in lines:\n",
    "    name1, name2, cnt = line.split(\",\")\n",
    "    print(name1 + \" parsed \" + str(cnt) + \" references that didn't parse \" + name2)"
   ]
  },
  {
   "cell_type": "code",
   "execution_count": 48,
   "metadata": {},
   "outputs": [
    {
     "data": {
      "image/png": "[encoded data removed]",
      "text/plain": [
       "<Figure size 864x432 with 1 Axes>"
      ]
     },
     "metadata": {},
     "output_type": "display_data"
    }
   ],
   "source": [
    "plt.figure(figsize=(12, 6))\n",
    "for key, grp in benchmark_data.groupby(['extractor']):\n",
    "    plt.scatter(grp['time_ms'], grp['validated'], label=key)\n",
    "plt.legend()\n",
    "plt.show()"
   ]
  },
  {
   "cell_type": "code",
   "execution_count": null,
   "metadata": {},
   "outputs": [],
   "source": []
  }
 ],
 "metadata": {
  "kernelspec": {
   "display_name": "Python 3",
   "language": "python",
   "name": "python3"
  },
  "language_info": {
   "codemirror_mode": {
    "name": "ipython",
    "version": 3
   },
   "file_extension": ".py",
   "mimetype": "text/x-python",
   "name": "python",
   "nbconvert_exporter": "python",
   "pygments_lexer": "ipython3",
   "version": "3.8.2"
  }
 },
 "nbformat": 4,
 "nbformat_minor": 4
}
